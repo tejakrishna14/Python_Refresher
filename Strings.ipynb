{
 "cells": [
  {
   "cell_type": "code",
   "execution_count": 1,
   "id": "4a7a8275-3a40-457b-9006-21455d15a622",
   "metadata": {},
   "outputs": [],
   "source": [
    "a = 10"
   ]
  },
  {
   "cell_type": "code",
   "execution_count": 2,
   "id": "72a2a728-821d-4d67-aa8e-619fbcbd4198",
   "metadata": {},
   "outputs": [
    {
     "name": "stdout",
     "output_type": "stream",
     "text": [
      "10\n"
     ]
    }
   ],
   "source": [
    "print(a)"
   ]
  },
  {
   "cell_type": "code",
   "execution_count": 3,
   "id": "6b871cf7-ec6e-46a9-a0ad-66696e3e857c",
   "metadata": {},
   "outputs": [],
   "source": [
    "name = \"Teja\""
   ]
  },
  {
   "cell_type": "code",
   "execution_count": 4,
   "id": "238dc747-20d7-406e-858f-cbddf5c42d00",
   "metadata": {},
   "outputs": [
    {
     "name": "stdout",
     "output_type": "stream",
     "text": [
      "Teja\n"
     ]
    }
   ],
   "source": [
    "print(name)"
   ]
  },
  {
   "cell_type": "code",
   "execution_count": 5,
   "id": "37c96993-9dde-48a9-8107-6fe907c43daa",
   "metadata": {},
   "outputs": [
    {
     "data": {
      "text/plain": [
       "'Teja'"
      ]
     },
     "execution_count": 5,
     "metadata": {},
     "output_type": "execute_result"
    }
   ],
   "source": [
    "name"
   ]
  },
  {
   "cell_type": "code",
   "execution_count": 6,
   "id": "8159e8da-36a8-49c7-8b8a-34272ec39a5f",
   "metadata": {},
   "outputs": [
    {
     "data": {
      "text/plain": [
       "'TEJA'"
      ]
     },
     "execution_count": 6,
     "metadata": {},
     "output_type": "execute_result"
    }
   ],
   "source": [
    "name.upper()"
   ]
  },
  {
   "cell_type": "code",
   "execution_count": 7,
   "id": "fdd591d9-27cd-4eb9-9a3e-ee9fdd12e100",
   "metadata": {},
   "outputs": [
    {
     "data": {
      "text/plain": [
       "True"
      ]
     },
     "execution_count": 7,
     "metadata": {},
     "output_type": "execute_result"
    }
   ],
   "source": [
    "name.endswith(\"ja\")"
   ]
  },
  {
   "cell_type": "code",
   "execution_count": 8,
   "id": "5c5cebe9-d053-446e-b569-70e360835d59",
   "metadata": {},
   "outputs": [
    {
     "data": {
      "text/plain": [
       "False"
      ]
     },
     "execution_count": 8,
     "metadata": {},
     "output_type": "execute_result"
    }
   ],
   "source": [
    "name.endswith(\"ka\")"
   ]
  },
  {
   "cell_type": "code",
   "execution_count": 9,
   "id": "69b76222-d31b-447f-abda-65b2bcb1d38a",
   "metadata": {},
   "outputs": [
    {
     "data": {
      "text/plain": [
       "1"
      ]
     },
     "execution_count": 9,
     "metadata": {},
     "output_type": "execute_result"
    }
   ],
   "source": [
    "name.count(\"a\")"
   ]
  },
  {
   "cell_type": "code",
   "execution_count": 10,
   "id": "a483e182-817b-406e-b290-33b770acb00a",
   "metadata": {},
   "outputs": [
    {
     "data": {
      "text/plain": [
       "'Te'"
      ]
     },
     "execution_count": 10,
     "metadata": {},
     "output_type": "execute_result"
    }
   ],
   "source": [
    "name[0:2]"
   ]
  },
  {
   "cell_type": "code",
   "execution_count": null,
   "id": "a5375f26-5172-4e05-9c38-6403078c09b5",
   "metadata": {},
   "outputs": [],
   "source": []
  }
 ],
 "metadata": {
  "kernelspec": {
   "display_name": "Python 3 (ipykernel)",
   "language": "python",
   "name": "python3"
  },
  "language_info": {
   "codemirror_mode": {
    "name": "ipython",
    "version": 3
   },
   "file_extension": ".py",
   "mimetype": "text/x-python",
   "name": "python",
   "nbconvert_exporter": "python",
   "pygments_lexer": "ipython3",
   "version": "3.13.2"
  }
 },
 "nbformat": 4,
 "nbformat_minor": 5
}
