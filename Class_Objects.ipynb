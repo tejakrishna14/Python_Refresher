{
 "cells": [
  {
   "cell_type": "code",
   "execution_count": 4,
   "id": "01f340d2-d14c-4ff8-b11b-e5fc1c72ca94",
   "metadata": {},
   "outputs": [
    {
     "data": {
      "text/plain": [
       "'Kiran'"
      ]
     },
     "execution_count": 4,
     "metadata": {},
     "output_type": "execute_result"
    }
   ],
   "source": [
    "class Family:\n",
    "    name = \"Kiran\"\n",
    "    rel = \"Father\"\n",
    "    occ = \"Engineer\"\n",
    "\n",
    "member1 = Family()\n",
    "\n",
    "member1.name"
   ]
  },
  {
   "cell_type": "code",
   "execution_count": 12,
   "id": "49c9c8a8-9f56-4e21-b95f-e539aaab85df",
   "metadata": {},
   "outputs": [
    {
     "name": "stdout",
     "output_type": "stream",
     "text": [
      "RK is studying in Bokada clg and i would rate them -10\n",
      "Sudha is studying in Random clg and i would rate them 8\n"
     ]
    }
   ],
   "source": [
    "class Friends():\n",
    "    def __init__(self,name,college,rating):\n",
    "        self.name = name\n",
    "        self.college = college\n",
    "        self.rating = rating\n",
    "\n",
    "    def info(self):\n",
    "        print(f\"{self.name} is studying in {self.college} and i would rate them {self.rating}\")\n",
    "\n",
    "friend1 = Friends(\"RK\",\"Bokada clg\",-10)\n",
    "friend2 = Friends(\"Sudha\",\"Random clg\",8)\n",
    "\n",
    "friend1.info()\n",
    "friend2.info()"
   ]
  }
 ],
 "metadata": {
  "kernelspec": {
   "display_name": "Python [conda env:base] *",
   "language": "python",
   "name": "conda-base-py"
  },
  "language_info": {
   "codemirror_mode": {
    "name": "ipython",
    "version": 3
   },
   "file_extension": ".py",
   "mimetype": "text/x-python",
   "name": "python",
   "nbconvert_exporter": "python",
   "pygments_lexer": "ipython3",
   "version": "3.12.7"
  }
 },
 "nbformat": 4,
 "nbformat_minor": 5
}
