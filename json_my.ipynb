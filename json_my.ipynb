{
 "cells": [
  {
   "cell_type": "code",
   "execution_count": 1,
   "id": "476c3de8-c976-465d-bc44-148b8de108ae",
   "metadata": {},
   "outputs": [],
   "source": [
    "import json\n"
   ]
  },
  {
   "cell_type": "code",
   "execution_count": 2,
   "id": "344ab16a-739f-4ab3-bee1-b340962e642a",
   "metadata": {},
   "outputs": [
    {
     "data": {
      "text/plain": [
       "dict"
      ]
     },
     "execution_count": 2,
     "metadata": {},
     "output_type": "execute_result"
    }
   ],
   "source": [
    "obj = {\"name\": \"Alice\", \"company\": \"IBM\", \"salary\": 45000}\n",
    "type(obj)"
   ]
  },
  {
   "cell_type": "code",
   "execution_count": 3,
   "id": "e66fbcfa-c8a2-440a-9e33-f3ed38ecdbb0",
   "metadata": {},
   "outputs": [],
   "source": [
    "d = json.dumps(obj) #obj = python obh to json string"
   ]
  },
  {
   "cell_type": "code",
   "execution_count": 4,
   "id": "0fcced7f-5a59-483c-9748-18930837db95",
   "metadata": {},
   "outputs": [
    {
     "data": {
      "text/plain": [
       "'{\"name\": \"Alice\", \"company\": \"IBM\", \"salary\": 45000}'"
      ]
     },
     "execution_count": 4,
     "metadata": {},
     "output_type": "execute_result"
    }
   ],
   "source": [
    "d"
   ]
  },
  {
   "cell_type": "code",
   "execution_count": 5,
   "id": "bb35b37d-5e5f-415b-a7b3-3371eafe1f25",
   "metadata": {},
   "outputs": [],
   "source": [
    "file = open(\"data2.json\",\"w\")"
   ]
  },
  {
   "cell_type": "code",
   "execution_count": 6,
   "id": "97dfc4f5-4007-482d-8377-52932ea52e8e",
   "metadata": {},
   "outputs": [],
   "source": [
    "json.dump (obj,file)"
   ]
  },
  {
   "cell_type": "code",
   "execution_count": 7,
   "id": "0779fb0e-492a-49e7-9e45-93cb587bd437",
   "metadata": {},
   "outputs": [],
   "source": [
    "file.close()"
   ]
  }
 ],
 "metadata": {
  "kernelspec": {
   "display_name": "Python [conda env:Anacondaenv]",
   "language": "python",
   "name": "conda-env-Anacondaenv-py"
  },
  "language_info": {
   "codemirror_mode": {
    "name": "ipython",
    "version": 3
   },
   "file_extension": ".py",
   "mimetype": "text/x-python",
   "name": "python",
   "nbconvert_exporter": "python",
   "pygments_lexer": "ipython3",
   "version": "3.13.2"
  }
 },
 "nbformat": 4,
 "nbformat_minor": 5
}
