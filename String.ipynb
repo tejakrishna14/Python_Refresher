{
 "cells": [
  {
   "cell_type": "code",
   "execution_count": 1,
   "id": "954ee3f2-90e9-4845-becc-96a30f42fddb",
   "metadata": {},
   "outputs": [
    {
     "name": "stdout",
     "output_type": "stream",
     "text": [
      "My name is Alice and I am 25 years old.\n"
     ]
    }
   ],
   "source": [
    "name = \"Alice\"\n",
    "age = 25\n",
    "print(\"My name is {} and I am {} years old.\".format(name, age))\n",
    "# Output: My name is Alice and I am 25 years old."
   ]
  },
  {
   "cell_type": "code",
   "execution_count": 2,
   "id": "b0d0b445-638b-4d60-95a6-fb1b755aa799",
   "metadata": {},
   "outputs": [
    {
     "name": "stdout",
     "output_type": "stream",
     "text": [
      "My name is Alice and I am 25 years old.\n"
     ]
    }
   ],
   "source": [
    "name = \"Alice\"\n",
    "age = 25\n",
    "print(f\"My name is {name} and I am {age} years old.\")\n",
    "# Output: My name is Alice and I am 25 years old."
   ]
  },
  {
   "cell_type": "code",
   "execution_count": 5,
   "id": "d4f8a2de-b739-4e10-b00b-5bbb1ed09f68",
   "metadata": {},
   "outputs": [
    {
     "name": "stdout",
     "output_type": "stream",
     "text": [
      "Python    \n",
      "         Python\n",
      "  Python  \n"
     ]
    }
   ],
   "source": [
    "print(f\"{'Python':<10}\")  # Left-align\n",
    "print(f\"{'Python':>15}\")  # Right-align\n",
    "print(f\"{'Python':^10}\")  # Center-align"
   ]
  },
  {
   "cell_type": "code",
   "execution_count": null,
   "id": "64750658-cd3f-44db-b579-5c89e03c4b83",
   "metadata": {},
   "outputs": [],
   "source": []
  }
 ],
 "metadata": {
  "kernelspec": {
   "display_name": "Python 3 (ipykernel)",
   "language": "python",
   "name": "python3"
  },
  "language_info": {
   "codemirror_mode": {
    "name": "ipython",
    "version": 3
   },
   "file_extension": ".py",
   "mimetype": "text/x-python",
   "name": "python",
   "nbconvert_exporter": "python",
   "pygments_lexer": "ipython3",
   "version": "3.13.2"
  }
 },
 "nbformat": 4,
 "nbformat_minor": 5
}
