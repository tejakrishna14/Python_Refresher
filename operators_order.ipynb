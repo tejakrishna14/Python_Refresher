{
 "cells": [
  {
   "cell_type": "markdown",
   "id": "0c7f4290-27ff-42da-a63b-06b6fc330b1a",
   "metadata": {},
   "source": [
    "# Python follows PEMDAS (Parentheses, Exponents, Multiplication/Division, Addition/Subtraction). The order of operations in Python is:\n",
    "\n",
    "- Parentheses () – Highest precedence, operations inside parentheses are evaluated first.\n",
    "- Exponents ** – Power calculations (e.g., 2 ** 3 → 8).\n",
    "- Multiplication *, Division /, Floor Division //, Modulus % – Evaluated from left to right.\n",
    "- Addition +, Subtraction - – Evaluated from left to right."
   ]
  },
  {
   "cell_type": "code",
   "execution_count": 4,
   "id": "788fc6d0-36d5-46c5-a242-2ec82c8466dc",
   "metadata": {},
   "outputs": [],
   "source": [
    "result = 2 ** 3 ** 2  # Right-to-left\n"
   ]
  },
  {
   "cell_type": "code",
   "execution_count": 6,
   "id": "d47e879a-0d45-4561-a09c-e0071d53cd6a",
   "metadata": {},
   "outputs": [
    {
     "data": {
      "text/plain": [
       "512"
      ]
     },
     "execution_count": 6,
     "metadata": {},
     "output_type": "execute_result"
    }
   ],
   "source": [
    "result"
   ]
  }
 ],
 "metadata": {
  "kernelspec": {
   "display_name": "Python 3 (ipykernel)",
   "language": "python",
   "name": "python3"
  },
  "language_info": {
   "codemirror_mode": {
    "name": "ipython",
    "version": 3
   },
   "file_extension": ".py",
   "mimetype": "text/x-python",
   "name": "python",
   "nbconvert_exporter": "python",
   "pygments_lexer": "ipython3",
   "version": "3.13.2"
  }
 },
 "nbformat": 4,
 "nbformat_minor": 5
}
