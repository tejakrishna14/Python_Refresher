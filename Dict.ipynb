{
 "cells": [
  {
   "cell_type": "markdown",
   "id": "e9d035b6-4a58-4294-95c6-bf22ccd1757e",
   "metadata": {},
   "source": [
    "# Python Dictionaries and Dictionary Methods\n",
    "\n",
    "## What is a Dictionary?\n",
    "A **dictionary** in Python is an **unordered**, **mutable**, and **key-value** pair collection. It allows efficient data retrieval and modification. Dictionaries in Python are ordered as of Python 3.7\n",
    "\n",
    "### Creating a Dictionary:\n",
    "```python\n",
    "# Empty dictionary\n",
    "empty_dict = {}\n",
    "\n",
    "# Dictionary with key-value pairs\n",
    "student = {\n",
    "    \"name\": \"Alice\",\n",
    "    \"age\": 25,\n",
    "    \"grade\": \"A\"\n",
    "}\n",
    "\n",
    "# Using dict() constructor\n",
    "person = dict(name=\"John\", age=30, city=\"New York\")\n",
    "```\n",
    "\n",
    "## Accessing Dictionary Elements\n",
    "```python\n",
    "# Using keys\n",
    "print(student[\"name\"])  # Alice\n",
    "\n",
    "# Using get() (avoids KeyError if key doesn't exist)\n",
    "print(student.get(\"age\"))  # 25\n",
    "print(student.get(\"height\", \"Not Found\"))  # Default value\n",
    "```\n",
    "\n",
    "## Common Dictionary Methods\n",
    "\n",
    "| Method | Description | Example |\n",
    "|--------|------------|---------|\n",
    "| `keys()` | Returns all keys in the dictionary. | `student.keys()` |\n",
    "| `values()` | Returns all values in the dictionary. | `student.values()` |\n",
    "| `items()` | Returns key-value pairs as tuples. | `student.items()` |\n",
    "| `get(key, default)` | Returns value for `key`, or `default` if key not found. | `student.get(\"age\", 0)` |\n",
    "| `update(dict2)` | Merges `dict2` into the dictionary. | `student.update({\"age\": 26})` |\n",
    "| `pop(key, default)` | Removes key and returns its value (or `default` if key not found). | `student.pop(\"grade\")` |\n",
    "| `popitem()` | Removes and returns the last inserted key-value pair. | `student.popitem()` |\n",
    "| `setdefault(key, default)` | Returns value for `key`, else sets it to `default`. | `student.setdefault(\"city\", \"Unknown\")` |\n",
    "| `clear()` | Removes all items from the dictionary. | `student.clear()` |\n",
    "| `copy()` | Returns a shallow copy of the dictionary. | `new_dict = student.copy()` |\n",
    "\n",
    "## Example Usage:\n",
    "```python\n",
    "student = {\"name\": \"Alice\", \"age\": 25, \"grade\": \"A\"}\n",
    "\n",
    "# Adding a new key-value pair\n",
    "student[\"city\"] = \"New York\"\n",
    "\n",
    "# Updating an existing value\n",
    "student[\"age\"] = 26\n",
    "\n",
    "# Removing an item\n",
    "student.pop(\"grade\")\n",
    "\n",
    "# Iterating over a dictionary\n",
    "for key, value in student.items():\n",
    "    print(key, \":\", value)\n",
    "\n",
    "# Output:\n",
    "# name : Alice\n",
    "# age : 26\n",
    "# city : New York\n",
    "```\n",
    "\n",
    "## Dictionary Comprehension:\n",
    "```python\n",
    "# Creating a dictionary using comprehension\n",
    "squares = {x: x**2 for x in range(1, 6)}\n",
    "print(squares)  # {1: 1, 2: 4, 3: 9, 4: 16, 5: 25}\n",
    "```\n",
    "\n",
    "## Key Properties of Dictionaries:\n",
    "- **Unordered** (Python 3.6+ maintains insertion order).\n",
    "- **Keys must be unique and immutable** (e.g., strings, numbers, tuples).\n",
    "- **Values can be mutable** and of any type.\n"
   ]
  },
  {
   "cell_type": "code",
   "execution_count": 1,
   "id": "67e5c95e-0ee7-4fa5-adb6-fa161fc5ddf3",
   "metadata": {},
   "outputs": [],
   "source": [
    "d = {}"
   ]
  },
  {
   "cell_type": "code",
   "execution_count": 2,
   "id": "dd248ce3-5c51-4ca6-9cb5-a3675852c508",
   "metadata": {},
   "outputs": [
    {
     "data": {
      "text/plain": [
       "dict"
      ]
     },
     "execution_count": 2,
     "metadata": {},
     "output_type": "execute_result"
    }
   ],
   "source": [
    "type(d)"
   ]
  },
  {
   "cell_type": "code",
   "execution_count": 3,
   "id": "d738ec64-f486-4992-b9a0-9357f312e272",
   "metadata": {},
   "outputs": [],
   "source": [
    "# Dictionary with key-value pairs\n",
    "student = {\n",
    "    \"name\": \"Alice\",\n",
    "    \"age\": 25,\n",
    "    \"grade\": \"A\"\n",
    "}\n"
   ]
  },
  {
   "cell_type": "code",
   "execution_count": 5,
   "id": "d179d4f2-4504-47dd-a536-f60aafb93de6",
   "metadata": {},
   "outputs": [
    {
     "ename": "KeyError",
     "evalue": "'name4'",
     "output_type": "error",
     "traceback": [
      "\u001b[1;31m---------------------------------------------------------------------------\u001b[0m",
      "\u001b[1;31mKeyError\u001b[0m                                  Traceback (most recent call last)",
      "Cell \u001b[1;32mIn[5], line 1\u001b[0m\n\u001b[1;32m----> 1\u001b[0m student[\u001b[38;5;124m\"\u001b[39m\u001b[38;5;124mname4\u001b[39m\u001b[38;5;124m\"\u001b[39m]\n",
      "\u001b[1;31mKeyError\u001b[0m: 'name4'"
     ]
    }
   ],
   "source": [
    "student[\"name4\"]"
   ]
  },
  {
   "cell_type": "code",
   "execution_count": 13,
   "id": "932efba7-b8f5-42f5-88be-9d5d79119e9c",
   "metadata": {},
   "outputs": [],
   "source": [
    "r = student.get(\"name4\")"
   ]
  },
  {
   "cell_type": "code",
   "execution_count": 11,
   "id": "3aa7feb8-dcf6-4ccd-bee0-e7971cdd8281",
   "metadata": {},
   "outputs": [],
   "source": [
    "r"
   ]
  },
  {
   "cell_type": "code",
   "execution_count": 12,
   "id": "f975b8e3-dcd9-4c3d-9511-d42dde7bcf62",
   "metadata": {},
   "outputs": [
    {
     "name": "stdout",
     "output_type": "stream",
     "text": [
      "None\n"
     ]
    }
   ],
   "source": [
    "print(r)"
   ]
  },
  {
   "cell_type": "code",
   "execution_count": 14,
   "id": "87081973-fb2f-4d9f-a9f9-7df12937541e",
   "metadata": {},
   "outputs": [],
   "source": [
    "# Dictionary with key-value pairs\n",
    "student = {\n",
    "    \"name\": \"Alice\",\n",
    "    \"age\": 25,\n",
    "    \"grade\": \"A\"\n",
    "}"
   ]
  },
  {
   "cell_type": "code",
   "execution_count": 15,
   "id": "fda5713e-bc14-451f-8f7e-c9f4cb066b0d",
   "metadata": {},
   "outputs": [
    {
     "name": "stdout",
     "output_type": "stream",
     "text": [
      "25\n"
     ]
    }
   ],
   "source": [
    "print(student[\"age\"])"
   ]
  },
  {
   "cell_type": "code",
   "execution_count": 16,
   "id": "d5b7d5db-bd93-4429-bd7b-c65d7c961a20",
   "metadata": {},
   "outputs": [],
   "source": [
    "student[\"age\"] = 67"
   ]
  },
  {
   "cell_type": "code",
   "execution_count": 17,
   "id": "0cb28e34-2024-4cd3-9c97-2ff065845400",
   "metadata": {},
   "outputs": [
    {
     "name": "stdout",
     "output_type": "stream",
     "text": [
      "{'name': 'Alice', 'age': 67, 'grade': 'A'}\n"
     ]
    }
   ],
   "source": [
    "print(student)"
   ]
  },
  {
   "cell_type": "code",
   "execution_count": 18,
   "id": "20f9a46d-1769-40fa-b8a8-659e652aaaea",
   "metadata": {},
   "outputs": [
    {
     "data": {
      "text/plain": [
       "dict_keys(['name', 'age', 'grade'])"
      ]
     },
     "execution_count": 18,
     "metadata": {},
     "output_type": "execute_result"
    }
   ],
   "source": [
    "student.keys()"
   ]
  },
  {
   "cell_type": "code",
   "execution_count": 19,
   "id": "91785a4a-cc44-41ce-82ae-6c7994a97dc7",
   "metadata": {},
   "outputs": [
    {
     "data": {
      "text/plain": [
       "dict_values(['Alice', 67, 'A'])"
      ]
     },
     "execution_count": 19,
     "metadata": {},
     "output_type": "execute_result"
    }
   ],
   "source": [
    "student.values()"
   ]
  },
  {
   "cell_type": "code",
   "execution_count": 20,
   "id": "1578c208-a890-4f78-a85d-9e46493c7eff",
   "metadata": {},
   "outputs": [
    {
     "data": {
      "text/plain": [
       "dict_items([('name', 'Alice'), ('age', 67), ('grade', 'A')])"
      ]
     },
     "execution_count": 20,
     "metadata": {},
     "output_type": "execute_result"
    }
   ],
   "source": [
    "student.items()"
   ]
  },
  {
   "cell_type": "code",
   "execution_count": 21,
   "id": "580745c0-203c-4c10-a1b1-20b71e763256",
   "metadata": {},
   "outputs": [],
   "source": [
    "student.update({\"name\": \"Harry\"})"
   ]
  },
  {
   "cell_type": "code",
   "execution_count": 22,
   "id": "7afb3b74-202a-4c97-985a-37810d78fd02",
   "metadata": {},
   "outputs": [
    {
     "data": {
      "text/plain": [
       "{'name': 'Harry', 'age': 67, 'grade': 'A'}"
      ]
     },
     "execution_count": 22,
     "metadata": {},
     "output_type": "execute_result"
    }
   ],
   "source": [
    "student"
   ]
  },
  {
   "cell_type": "code",
   "execution_count": 24,
   "id": "08eb342d-83fa-4752-8f06-f06929421889",
   "metadata": {},
   "outputs": [],
   "source": [
    "student.update({\"name\": \"Ruchika\", \"language\": \"Python\"})"
   ]
  },
  {
   "cell_type": "code",
   "execution_count": 25,
   "id": "9211176c-6ae2-4c5d-9769-f232e5ed2c08",
   "metadata": {},
   "outputs": [
    {
     "data": {
      "text/plain": [
       "{'name': 'Ruchika', 'age': 67, 'grade': 'A', 'language': 'Python'}"
      ]
     },
     "execution_count": 25,
     "metadata": {},
     "output_type": "execute_result"
    }
   ],
   "source": [
    "student"
   ]
  },
  {
   "cell_type": "code",
   "execution_count": null,
   "id": "e6d7fb99-9e0c-4f50-a2db-a6312ffebabe",
   "metadata": {},
   "outputs": [],
   "source": []
  }
 ],
 "metadata": {
  "kernelspec": {
   "display_name": "Python 3 (ipykernel)",
   "language": "python",
   "name": "python3"
  },
  "language_info": {
   "codemirror_mode": {
    "name": "ipython",
    "version": 3
   },
   "file_extension": ".py",
   "mimetype": "text/x-python",
   "name": "python",
   "nbconvert_exporter": "python",
   "pygments_lexer": "ipython3",
   "version": "3.13.2"
  }
 },
 "nbformat": 4,
 "nbformat_minor": 5
}
