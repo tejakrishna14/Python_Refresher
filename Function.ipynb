{
 "cells": [
  {
   "cell_type": "code",
   "execution_count": 6,
   "id": "39681677-8e2f-4885-a50c-a28f0efa4bff",
   "metadata": {},
   "outputs": [],
   "source": [
    "def Average(a,b):\n",
    "    avg = (a+b)/2\n",
    "    print(avg)"
   ]
  },
  {
   "cell_type": "code",
   "execution_count": 7,
   "id": "327f9e63-8806-430b-a9f2-2e28f356481c",
   "metadata": {},
   "outputs": [
    {
     "name": "stdout",
     "output_type": "stream",
     "text": [
      "15.0\n"
     ]
    }
   ],
   "source": [
    "Average(10,20)"
   ]
  },
  {
   "cell_type": "code",
   "execution_count": 8,
   "id": "92aa3e99-2bba-42a4-8f41-1f14e4a4078f",
   "metadata": {},
   "outputs": [],
   "source": [
    "def Greet(fname,lname):\n",
    "    print(\"Hello\", fname,lname)"
   ]
  },
  {
   "cell_type": "code",
   "execution_count": 10,
   "id": "89ae343d-fab7-494e-af5e-24397ed7c1e9",
   "metadata": {},
   "outputs": [
    {
     "name": "stdout",
     "output_type": "stream",
     "text": [
      "hello krishna Teja\n"
     ]
    }
   ],
   "source": [
    "Greet(\"krishna\",\"Teja\")"
   ]
  }
 ],
 "metadata": {
  "kernelspec": {
   "display_name": "Python 3 (ipykernel)",
   "language": "python",
   "name": "python3"
  },
  "language_info": {
   "codemirror_mode": {
    "name": "ipython",
    "version": 3
   },
   "file_extension": ".py",
   "mimetype": "text/x-python",
   "name": "python",
   "nbconvert_exporter": "python",
   "pygments_lexer": "ipython3",
   "version": "3.13.2"
  }
 },
 "nbformat": 4,
 "nbformat_minor": 5
}
