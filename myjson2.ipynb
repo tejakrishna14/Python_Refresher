{
 "cells": [
  {
   "cell_type": "code",
   "execution_count": 1,
   "id": "da2e5143-e17b-4784-84eb-08a580dfba4e",
   "metadata": {},
   "outputs": [],
   "source": [
    "import json"
   ]
  },
  {
   "cell_type": "code",
   "execution_count": 2,
   "id": "c0c7891c-23c7-4c23-91cd-a8dac245c758",
   "metadata": {},
   "outputs": [
    {
     "data": {
      "text/plain": [
       "dict"
      ]
     },
     "execution_count": 2,
     "metadata": {},
     "output_type": "execute_result"
    }
   ],
   "source": [
    "data = {\"name\": \"Alice\", \"company\": \"IBM\", \"salary\": 45000}\n",
    "type(data)"
   ]
  },
  {
   "cell_type": "code",
   "execution_count": 3,
   "id": "286b3253-0c9d-4973-9bcb-a9fdafd06870",
   "metadata": {},
   "outputs": [
    {
     "name": "stdout",
     "output_type": "stream",
     "text": [
      "{\"name\": \"Alice\", \"company\": \"IBM\", \"salary\": 45000}\n",
      "<class 'str'>\n"
     ]
    }
   ],
   "source": [
    "json_string = json.dumps(data)\n",
    "print(json_string)  # Output: {\"name\": \"Alice\", \"age\": 25, \"city\": \"New York\"}\n",
    "print(type(json_string))  # <class 'str'>"
   ]
  },
  {
   "cell_type": "code",
   "execution_count": 4,
   "id": "ca53439f-c207-42d5-bcf3-fb34a1a03a08",
   "metadata": {},
   "outputs": [],
   "source": [
    "with open(\"file222.json\", \"w\") as file:\n",
    "    json.dump(data, file)\n",
    "\n",
    "#creates a file with name we give in 1st argument\n",
    "#takes the information in data\n",
    "#dump it into the file"
   ]
  },
  {
   "cell_type": "code",
   "execution_count": 5,
   "id": "927b4040-c235-4a85-bcf7-1fac632f2f2d",
   "metadata": {},
   "outputs": [],
   "source": [
    "json_data = '{\"name\": \"Teja\", \"age\": 20, \"city\": \"Hyderabad\"}'"
   ]
  },
  {
   "cell_type": "code",
   "execution_count": 6,
   "id": "e8490f21-50f8-4199-82f2-dd17f010f656",
   "metadata": {},
   "outputs": [
    {
     "name": "stdout",
     "output_type": "stream",
     "text": [
      "{'name': 'Teja', 'age': 20, 'city': 'Hyderabad'}\n"
     ]
    },
    {
     "data": {
      "text/plain": [
       "dict"
      ]
     },
     "execution_count": 6,
     "metadata": {},
     "output_type": "execute_result"
    }
   ],
   "source": [
    "python_obj = json.loads(json_data)\n",
    "print(python_obj)\n",
    "type(python_obj)"
   ]
  },
  {
   "cell_type": "code",
   "execution_count": 9,
   "id": "6c10fef6-6d0a-4e98-bb2e-de617759e750",
   "metadata": {},
   "outputs": [
    {
     "name": "stdout",
     "output_type": "stream",
     "text": [
      "{'name': 'Alice', 'company': 'IBM', 'salary': 45000}\n"
     ]
    }
   ],
   "source": [
    "with open(\"file222.json\", \"r\") as file:\n",
    "    python_data = json.load(file)\n",
    "print(python_data)\n",
    "\n"
   ]
  }
 ],
 "metadata": {
  "kernelspec": {
   "display_name": "Python [conda env:Anacondaenv]",
   "language": "python",
   "name": "conda-env-Anacondaenv-py"
  },
  "language_info": {
   "codemirror_mode": {
    "name": "ipython",
    "version": 3
   },
   "file_extension": ".py",
   "mimetype": "text/x-python",
   "name": "python",
   "nbconvert_exporter": "python",
   "pygments_lexer": "ipython3",
   "version": "3.13.2"
  }
 },
 "nbformat": 4,
 "nbformat_minor": 5
}
