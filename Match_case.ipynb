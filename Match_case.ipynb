{
 "cells": [
  {
   "cell_type": "code",
   "execution_count": 1,
   "id": "078b9e52-522c-4d14-9e9b-ca41672b7ed8",
   "metadata": {},
   "outputs": [
    {
     "name": "stdout",
     "output_type": "stream",
     "text": [
      "It's 10\n",
      "It's neither 10 nor 20\n"
     ]
    }
   ],
   "source": [
    "def check_number(x):\n",
    "    match x:\n",
    "        case 10:\n",
    "            print(\"It's 10\")\n",
    "        case 20:\n",
    "            print(\"It's 20\")\n",
    "        case _:\n",
    "            print(\"It's neither 10 nor 20\")\n",
    "\n",
    "check_number(10)\n",
    "check_number(30)"
   ]
  },
  {
   "cell_type": "raw",
   "id": "3bc39dae-1b8c-450d-b189-b102d4b1d09e",
   "metadata": {},
   "source": [
    "number = 300"
   ]
  },
  {
   "cell_type": "code",
   "execution_count": 2,
   "id": "aa1a2003-4f16-47bd-b114-d612befc0e9a",
   "metadata": {},
   "outputs": [
    {
     "name": "stdout",
     "output_type": "stream",
     "text": [
      "OK\n",
      "Not Found\n"
     ]
    }
   ],
   "source": [
    "def http_status(code):\n",
    "    match code:\n",
    "        case 200:\n",
    "            return \"OK\"\n",
    "        case 400:\n",
    "            return \"Bad Request\"\n",
    "        case 404:\n",
    "            return \"Not Found\"\n",
    "        case 500:\n",
    "            return \"Internal Server Error\"\n",
    "        case _:\n",
    "            return \"Unknown Status\"\n",
    "\n",
    "print(http_status(200))  # Output: OK\n",
    "print(http_status(404))  # Output: Not Found"
   ]
  },
  {
   "cell_type": "markdown",
   "id": "28370c58-c4c2-4247-b196-0f94ee13946d",
   "metadata": {},
   "source": [
    "# Match case in Data Structures"
   ]
  },
  {
   "cell_type": "code",
   "execution_count": 4,
   "id": "516a6c7d-52ba-4e4c-b26d-7461fa64d314",
   "metadata": {},
   "outputs": [
    {
     "name": "stdout",
     "output_type": "stream",
     "text": [
      "X-Axis at 3\n"
     ]
    }
   ],
   "source": [
    "point = (3, 0)\n",
    "\n",
    "match point:\n",
    "    case (0, 0):\n",
    "        print(\"Origin\")\n",
    "    case (x, 0):\n",
    "        print(f\"X-Axis at {x}\")\n",
    "    case (0, y):\n",
    "        print(f\"Y-Axis at {y}\")\n",
    "    case (x, y):\n",
    "        print(f\"Point at ({x}, {y})\")"
   ]
  },
  {
   "cell_type": "code",
   "execution_count": 5,
   "id": "774f9a96-60f8-4275-bb87-87d45b1394f6",
   "metadata": {},
   "outputs": [
    {
     "name": "stdout",
     "output_type": "stream",
     "text": [
      "Point at (3, 4)\n"
     ]
    }
   ],
   "source": [
    "point = (3, 4)\n",
    "\n",
    "match point:\n",
    "    case (0, 0):\n",
    "        print(\"Origin\")\n",
    "    case (x, 0):\n",
    "        print(f\"X-Axis at {x}\")\n",
    "    case (0, y):\n",
    "        print(f\"Y-Axis at {y}\")\n",
    "    case (x, y):\n",
    "        print(f\"Point at ({x}, {y})\")\n"
   ]
  }
 ],
 "metadata": {
  "kernelspec": {
   "display_name": "Python 3 (ipykernel)",
   "language": "python",
   "name": "python3"
  },
  "language_info": {
   "codemirror_mode": {
    "name": "ipython",
    "version": 3
   },
   "file_extension": ".py",
   "mimetype": "text/x-python",
   "name": "python",
   "nbconvert_exporter": "python",
   "pygments_lexer": "ipython3",
   "version": "3.13.2"
  }
 },
 "nbformat": 4,
 "nbformat_minor": 5
}
